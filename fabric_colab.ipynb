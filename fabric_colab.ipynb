{
  "cells": [
    {
      "cell_type": "markdown",
      "metadata": {
        "id": "view-in-github"
      },
      "source": [
        "[![Open In Colab](https://colab.research.google.com/assets/colab-badge.svg)](https://colab.research.google.com/github/camenduru/fabric-colab/blob/main/fabric_colab.ipynb)"
      ]
    },
    {
      "cell_type": "code",
      "execution_count": null,
      "metadata": {
        "id": "NrgcDwZxgDOe"
      },
      "outputs": [],
      "source": [
        "%cd /content\n",
        "!git clone -b dev https://github.com/camenduru/fabric-hf\n",
        "%cd /content/fabric-hf\n",
        "!pip -q install accelerate==0.18.0 diffusers==0.17.1 gradio==3.36.1 transformers==4.30.2 hydra-core ftfy git+https://github.com/openai/CLIP.git\n",
        "!pip -q install git+https://github.com/camenduru/fabric.git@dev\n",
        "!pip install -q xformers==0.0.20 triton==2.0.0 -U\n",
        "!python app.py"
      ]
    }
  ],
  "metadata": {
    "accelerator": "GPU",
    "colab": {
      "gpuType": "T4",
      "provenance": []
    },
    "kernelspec": {
      "display_name": "Python 3",
      "name": "python3"
    },
    "language_info": {
      "name": "python"
    }
  },
  "nbformat": 4,
  "nbformat_minor": 0
}
